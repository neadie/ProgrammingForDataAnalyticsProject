{
 "cells": [
  {
   "cell_type": "code",
   "execution_count": 1,
   "metadata": {},
   "outputs": [],
   "source": [
    "import numpy as np\n",
    "import matplotlib.pyplot as plt\n",
    "import pandas as pd"
   ]
  },
  {
   "cell_type": "markdown",
   "metadata": {},
   "source": [
    "## Generate Data from A Study of Sea kayak incidents in Ireland"
   ]
  },
  {
   "cell_type": "markdown",
   "metadata": {},
   "source": [
    "### Field experience"
   ]
  },
  {
   "cell_type": "markdown",
   "metadata": {},
   "source": [
    ".From [[1](https://issuu.com/lastudio/docs/14752_tnadt_63_issuu)] 70% of those in the survey had been paddling  5 or more years , with nearly half of them having 10 or more experience .  Therefore I generated a data set as below.\n",
    "35% - five or more experience\n",
    "35% - ten or more experince \n",
    "30% less than five years experience "
   ]
  },
  {
   "cell_type": "code",
   "execution_count": 2,
   "metadata": {},
   "outputs": [
    {
     "data": {
      "text/plain": [
       "0      1\n",
       "1      1\n",
       "2      0\n",
       "3      2\n",
       "4      1\n",
       "      ..\n",
       "95    19\n",
       "96     2\n",
       "97     1\n",
       "98     1\n",
       "99     5\n",
       "Length: 100, dtype: int64"
      ]
     },
     "execution_count": 2,
     "metadata": {},
     "output_type": "execute_result"
    }
   ],
   "source": [
    "experienced = []\n",
    "for i in range(35):\n",
    "    experienced.append(np.random.randint(6))\n",
    "for i in range(35):\n",
    "    experienced.append(np.random.randint(11))\n",
    "for i in range(30):\n",
    "    experienced.append(np.random.randint(20))  \n",
    "np.random.shuffle(experienced)\n",
    "\n",
    "Years_Of_Experience = pd.Series(experienced)\n",
    "Years_Of_Experience"
   ]
  },
  {
   "cell_type": "markdown",
   "metadata": {},
   "source": [
    "### Field Location"
   ]
  },
  {
   "cell_type": "markdown",
   "metadata": {},
   "source": [
    "\n",
    "\n",
    "There was no information on location other than most incdients happened on the west coast. Thus therefore I split the 4 regions equally. \n",
    "%25 - west coast \n",
    "%25 east Coast\n",
    "%25 South Coast\n",
    "%25 North Coast\n",
    "\n"
   ]
  },
  {
   "cell_type": "code",
   "execution_count": 3,
   "metadata": {},
   "outputs": [
    {
     "data": {
      "text/plain": [
       "0      West Coast\n",
       "1     South Coast\n",
       "2     South Coast\n",
       "3     South Coast\n",
       "4     South Coast\n",
       "         ...     \n",
       "95    South Coast\n",
       "96    South Coast\n",
       "97     West Coast\n",
       "98     West Coast\n",
       "99    South Coast\n",
       "Length: 100, dtype: object"
      ]
     },
     "execution_count": 3,
     "metadata": {},
     "output_type": "execute_result"
    }
   ],
   "source": [
    "\n",
    "location = []\n",
    "for i in range(25):\n",
    "    location.append(0)\n",
    "for i in range(25):\n",
    "    location.append(1)\n",
    "for i in range(25):\n",
    "    location.append(2)\n",
    "for i in range(25):\n",
    "    location.append(3)    \n",
    "np.random.shuffle(location)\n",
    "\n",
    "for i in range(len(location)):\n",
    "    if location[i] == 0:\n",
    "        location[i] = \"West Coast\"\n",
    "    elif location  == 1:\n",
    "        location[i] = \"East Coast\"\n",
    "    elif location  == 2:\n",
    "        location[i] = \"North Coast\"\n",
    "    else:\n",
    "        location[i] = \"South Coast\"\n",
    "location_of_incident = pd.Series(location)\n",
    "location_of_incident"
   ]
  },
  {
   "cell_type": "markdown",
   "metadata": {},
   "source": [
    "### Field Wind Speed "
   ]
  },
  {
   "cell_type": "code",
   "execution_count": 4,
   "metadata": {},
   "outputs": [
    {
     "data": {
      "text/plain": [
       "0     19\n",
       "1     12\n",
       "2     13\n",
       "3      5\n",
       "4     21\n",
       "      ..\n",
       "95    19\n",
       "96     9\n",
       "97    15\n",
       "98    31\n",
       "99    16\n",
       "Length: 100, dtype: int64"
      ]
     },
     "execution_count": 4,
     "metadata": {},
     "output_type": "execute_result"
    }
   ],
   "source": [
    "windSpeed = []\n",
    "# 3rd of incidents happend in force 3 between 12km/h and 20 km/h\n",
    "for i in range(33):\n",
    "    windSpeed.append(np.random.randint(12,20))\n",
    "#  80% of incidents happend in force 4 and under \n",
    "for i in range(47):\n",
    "    windSpeed.append(np.random.randint(0,29))\n",
    "# 20% of incidents happened above force 4 \n",
    "for i in range(20):\n",
    "    windSpeed.append(np.random.randint(29,40))  \n",
    "np.random.shuffle(windSpeed)\n",
    "Wind_Speed = pd.Series(windSpeed)\n",
    "Wind_Speed"
   ]
  },
  {
   "cell_type": "markdown",
   "metadata": {},
   "source": [
    "### Group Size "
   ]
  },
  {
   "cell_type": "code",
   "execution_count": 5,
   "metadata": {},
   "outputs": [
    {
     "data": {
      "text/plain": [
       "0      4\n",
       "1      7\n",
       "2      8\n",
       "3      3\n",
       "4      3\n",
       "      ..\n",
       "95     1\n",
       "96    10\n",
       "97     7\n",
       "98     7\n",
       "99     3\n",
       "Length: 100, dtype: int64"
      ]
     },
     "execution_count": 5,
     "metadata": {},
     "output_type": "execute_result"
    }
   ],
   "source": [
    "groupSize = []\n",
    "# Most incidents occured when group size was between 7 and 8 people\n",
    "for i in range(60):\n",
    "    groupSize.append(np.random.randint(7,9))\n",
    "#  Followed by between 3 and 4 people\n",
    "for i in range(30):\n",
    "    groupSize.append(np.random.randint(3,5))\n",
    "# Only 4 incidents 1 person was in the paddle\n",
    "for i in range(4):\n",
    "    groupSize.append(1)\n",
    "# All other size groups\n",
    "groupSize.append(2)\n",
    "groupSize.append(5)\n",
    "groupSize.append(6)\n",
    "groupSize.append(12)\n",
    "groupSize.append(9)\n",
    "groupSize.append(10)\n",
    "\n",
    "\n",
    "\n",
    "np.random.shuffle(groupSize)\n",
    "group_Size = pd.Series(groupSize)\n",
    "group_Size"
   ]
  },
  {
   "cell_type": "markdown",
   "metadata": {},
   "source": [
    "### Field Formal Training "
   ]
  },
  {
   "cell_type": "code",
   "execution_count": 26,
   "metadata": {},
   "outputs": [
    {
     "data": {
      "text/plain": [
       "0      No\n",
       "1     Yes\n",
       "2     Yes\n",
       "3     Yes\n",
       "4     Yes\n",
       "     ... \n",
       "95    Yes\n",
       "96    Yes\n",
       "97     No\n",
       "98    Yes\n",
       "99     No\n",
       "Length: 100, dtype: object"
      ]
     },
     "execution_count": 26,
     "metadata": {},
     "output_type": "execute_result"
    }
   ],
   "source": [
    "training = []\n",
    "for i in range(30):\n",
    "    training.append(0)\n",
    "for i in range(70):\n",
    "    training.append(1)\n",
    " \n",
    "np.random.shuffle(training)\n",
    "\n",
    "for i in range(len(training)):\n",
    "    if training[i] == 0:\n",
    "        training[i] = \"No\"\n",
    "    elif training[i]  == 1:\n",
    "        training[i] = \"Yes\"\n",
    "    \n",
    "Formal_training = pd.Series(training)\n",
    "Formal_training "
   ]
  },
  {
   "cell_type": "markdown",
   "metadata": {},
   "source": [
    "### Field trip Type\n"
   ]
  },
  {
   "cell_type": "code",
   "execution_count": 22,
   "metadata": {},
   "outputs": [
    {
     "data": {
      "text/plain": [
       "0     Cliff CoastLine\n",
       "1     Cliff CoastLine\n",
       "2     Cliff CoastLine\n",
       "3        Dumping Surf\n",
       "4     Cliff CoastLine\n",
       "           ...       \n",
       "95       Dumping Surf\n",
       "96    Cliff CoastLine\n",
       "97    Cliff CoastLine\n",
       "98    Cliff CoastLine\n",
       "99       Dumping Surf\n",
       "Length: 100, dtype: object"
      ]
     },
     "execution_count": 22,
     "metadata": {},
     "output_type": "execute_result"
    }
   ],
   "source": [
    "tripType = []\n",
    "for i in range(60):\n",
    "    tripType.append(0)\n",
    "for i in range(30):\n",
    "    tripType.append(1)\n",
    "for i in range(10):\n",
    "    tripType.append(2)\n",
    " \n",
    "np.random.shuffle(tripType)\n",
    "\n",
    "for i in range(len(tripType)):\n",
    "    if tripType[i] == 0:\n",
    "        tripType[i] = \"Cliff CoastLine\"\n",
    "    elif tripType[i]  == 1:\n",
    "        tripType[i] = \"Dumping Surf\"\n",
    "    else:\n",
    "        tripType[i] = \"Other\"\n",
    "        \n",
    "    \n",
    "Trip_Type = pd.Series(tripType)\n",
    "Trip_Type"
   ]
  },
  {
   "cell_type": "code",
   "execution_count": 27,
   "metadata": {},
   "outputs": [
    {
     "data": {
      "text/html": [
       "<div>\n",
       "<style scoped>\n",
       "    .dataframe tbody tr th:only-of-type {\n",
       "        vertical-align: middle;\n",
       "    }\n",
       "\n",
       "    .dataframe tbody tr th {\n",
       "        vertical-align: top;\n",
       "    }\n",
       "\n",
       "    .dataframe thead th {\n",
       "        text-align: right;\n",
       "    }\n",
       "</style>\n",
       "<table border=\"1\" class=\"dataframe\">\n",
       "  <thead>\n",
       "    <tr style=\"text-align: right;\">\n",
       "      <th></th>\n",
       "      <th>experience</th>\n",
       "      <th>wind Speed</th>\n",
       "      <th>group Size</th>\n",
       "    </tr>\n",
       "  </thead>\n",
       "  <tbody>\n",
       "    <tr>\n",
       "      <td>count</td>\n",
       "      <td>100.000000</td>\n",
       "      <td>100.00000</td>\n",
       "      <td>100.000000</td>\n",
       "    </tr>\n",
       "    <tr>\n",
       "      <td>mean</td>\n",
       "      <td>5.350000</td>\n",
       "      <td>18.06000</td>\n",
       "      <td>5.950000</td>\n",
       "    </tr>\n",
       "    <tr>\n",
       "      <td>std</td>\n",
       "      <td>5.263511</td>\n",
       "      <td>9.76783</td>\n",
       "      <td>2.244522</td>\n",
       "    </tr>\n",
       "    <tr>\n",
       "      <td>min</td>\n",
       "      <td>0.000000</td>\n",
       "      <td>0.00000</td>\n",
       "      <td>1.000000</td>\n",
       "    </tr>\n",
       "    <tr>\n",
       "      <td>25%</td>\n",
       "      <td>1.000000</td>\n",
       "      <td>12.75000</td>\n",
       "      <td>4.000000</td>\n",
       "    </tr>\n",
       "    <tr>\n",
       "      <td>50%</td>\n",
       "      <td>4.000000</td>\n",
       "      <td>17.00000</td>\n",
       "      <td>7.000000</td>\n",
       "    </tr>\n",
       "    <tr>\n",
       "      <td>75%</td>\n",
       "      <td>8.000000</td>\n",
       "      <td>25.00000</td>\n",
       "      <td>7.250000</td>\n",
       "    </tr>\n",
       "    <tr>\n",
       "      <td>max</td>\n",
       "      <td>19.000000</td>\n",
       "      <td>39.00000</td>\n",
       "      <td>12.000000</td>\n",
       "    </tr>\n",
       "  </tbody>\n",
       "</table>\n",
       "</div>"
      ],
      "text/plain": [
       "       experience  wind Speed  group Size\n",
       "count  100.000000   100.00000  100.000000\n",
       "mean     5.350000    18.06000    5.950000\n",
       "std      5.263511     9.76783    2.244522\n",
       "min      0.000000     0.00000    1.000000\n",
       "25%      1.000000    12.75000    4.000000\n",
       "50%      4.000000    17.00000    7.000000\n",
       "75%      8.000000    25.00000    7.250000\n",
       "max     19.000000    39.00000   12.000000"
      ]
     },
     "execution_count": 27,
     "metadata": {},
     "output_type": "execute_result"
    }
   ],
   "source": [
    "frame = { 'experience': Years_Of_Experience, 'location': location_of_incident ,'wind Speed':Wind_Speed,'group Size':group_Size,\n",
    "        'training':Formal_training,'trip Type':Trip_Type} \n",
    "  \n",
    "result = pd.DataFrame(frame) \n",
    "result.describe()"
   ]
  },
  {
   "cell_type": "code",
   "execution_count": 29,
   "metadata": {},
   "outputs": [
    {
     "data": {
      "text/html": [
       "<div>\n",
       "<style scoped>\n",
       "    .dataframe tbody tr th:only-of-type {\n",
       "        vertical-align: middle;\n",
       "    }\n",
       "\n",
       "    .dataframe tbody tr th {\n",
       "        vertical-align: top;\n",
       "    }\n",
       "\n",
       "    .dataframe thead th {\n",
       "        text-align: right;\n",
       "    }\n",
       "</style>\n",
       "<table border=\"1\" class=\"dataframe\">\n",
       "  <thead>\n",
       "    <tr style=\"text-align: right;\">\n",
       "      <th></th>\n",
       "      <th>experience</th>\n",
       "      <th>location</th>\n",
       "      <th>wind Speed</th>\n",
       "      <th>group Size</th>\n",
       "      <th>training</th>\n",
       "      <th>trip Type</th>\n",
       "    </tr>\n",
       "  </thead>\n",
       "  <tbody>\n",
       "    <tr>\n",
       "      <td>0</td>\n",
       "      <td>1</td>\n",
       "      <td>West Coast</td>\n",
       "      <td>19</td>\n",
       "      <td>4</td>\n",
       "      <td>No</td>\n",
       "      <td>Cliff CoastLine</td>\n",
       "    </tr>\n",
       "    <tr>\n",
       "      <td>1</td>\n",
       "      <td>1</td>\n",
       "      <td>South Coast</td>\n",
       "      <td>12</td>\n",
       "      <td>7</td>\n",
       "      <td>Yes</td>\n",
       "      <td>Cliff CoastLine</td>\n",
       "    </tr>\n",
       "    <tr>\n",
       "      <td>2</td>\n",
       "      <td>0</td>\n",
       "      <td>South Coast</td>\n",
       "      <td>13</td>\n",
       "      <td>8</td>\n",
       "      <td>Yes</td>\n",
       "      <td>Cliff CoastLine</td>\n",
       "    </tr>\n",
       "    <tr>\n",
       "      <td>3</td>\n",
       "      <td>2</td>\n",
       "      <td>South Coast</td>\n",
       "      <td>5</td>\n",
       "      <td>3</td>\n",
       "      <td>Yes</td>\n",
       "      <td>Dumping Surf</td>\n",
       "    </tr>\n",
       "    <tr>\n",
       "      <td>4</td>\n",
       "      <td>1</td>\n",
       "      <td>South Coast</td>\n",
       "      <td>21</td>\n",
       "      <td>3</td>\n",
       "      <td>Yes</td>\n",
       "      <td>Cliff CoastLine</td>\n",
       "    </tr>\n",
       "    <tr>\n",
       "      <td>...</td>\n",
       "      <td>...</td>\n",
       "      <td>...</td>\n",
       "      <td>...</td>\n",
       "      <td>...</td>\n",
       "      <td>...</td>\n",
       "      <td>...</td>\n",
       "    </tr>\n",
       "    <tr>\n",
       "      <td>95</td>\n",
       "      <td>19</td>\n",
       "      <td>South Coast</td>\n",
       "      <td>19</td>\n",
       "      <td>1</td>\n",
       "      <td>Yes</td>\n",
       "      <td>Dumping Surf</td>\n",
       "    </tr>\n",
       "    <tr>\n",
       "      <td>96</td>\n",
       "      <td>2</td>\n",
       "      <td>South Coast</td>\n",
       "      <td>9</td>\n",
       "      <td>10</td>\n",
       "      <td>Yes</td>\n",
       "      <td>Cliff CoastLine</td>\n",
       "    </tr>\n",
       "    <tr>\n",
       "      <td>97</td>\n",
       "      <td>1</td>\n",
       "      <td>West Coast</td>\n",
       "      <td>15</td>\n",
       "      <td>7</td>\n",
       "      <td>No</td>\n",
       "      <td>Cliff CoastLine</td>\n",
       "    </tr>\n",
       "    <tr>\n",
       "      <td>98</td>\n",
       "      <td>1</td>\n",
       "      <td>West Coast</td>\n",
       "      <td>31</td>\n",
       "      <td>7</td>\n",
       "      <td>Yes</td>\n",
       "      <td>Cliff CoastLine</td>\n",
       "    </tr>\n",
       "    <tr>\n",
       "      <td>99</td>\n",
       "      <td>5</td>\n",
       "      <td>South Coast</td>\n",
       "      <td>16</td>\n",
       "      <td>3</td>\n",
       "      <td>No</td>\n",
       "      <td>Dumping Surf</td>\n",
       "    </tr>\n",
       "  </tbody>\n",
       "</table>\n",
       "<p>100 rows × 6 columns</p>\n",
       "</div>"
      ],
      "text/plain": [
       "    experience     location  wind Speed  group Size training        trip Type\n",
       "0            1   West Coast          19           4       No  Cliff CoastLine\n",
       "1            1  South Coast          12           7      Yes  Cliff CoastLine\n",
       "2            0  South Coast          13           8      Yes  Cliff CoastLine\n",
       "3            2  South Coast           5           3      Yes     Dumping Surf\n",
       "4            1  South Coast          21           3      Yes  Cliff CoastLine\n",
       "..         ...          ...         ...         ...      ...              ...\n",
       "95          19  South Coast          19           1      Yes     Dumping Surf\n",
       "96           2  South Coast           9          10      Yes  Cliff CoastLine\n",
       "97           1   West Coast          15           7       No  Cliff CoastLine\n",
       "98           1   West Coast          31           7      Yes  Cliff CoastLine\n",
       "99           5  South Coast          16           3       No     Dumping Surf\n",
       "\n",
       "[100 rows x 6 columns]"
      ]
     },
     "execution_count": 29,
     "metadata": {},
     "output_type": "execute_result"
    }
   ],
   "source": [
    "result\n"
   ]
  },
  {
   "cell_type": "markdown",
   "metadata": {},
   "source": [
    "### References \n",
    "\n",
    "1. Ray McCullagh and Keven 0'Callaghan,A Study of sea kayak incidents in Ireland https://issuu.com/lastudio/docs/14752_tnadt_63_issuu"
   ]
  },
  {
   "cell_type": "code",
   "execution_count": null,
   "metadata": {},
   "outputs": [],
   "source": []
  },
  {
   "cell_type": "code",
   "execution_count": null,
   "metadata": {},
   "outputs": [],
   "source": []
  },
  {
   "cell_type": "code",
   "execution_count": null,
   "metadata": {},
   "outputs": [],
   "source": []
  },
  {
   "cell_type": "code",
   "execution_count": null,
   "metadata": {},
   "outputs": [],
   "source": []
  }
 ],
 "metadata": {
  "kernelspec": {
   "display_name": "Python 3",
   "language": "python",
   "name": "python3"
  },
  "language_info": {
   "codemirror_mode": {
    "name": "ipython",
    "version": 3
   },
   "file_extension": ".py",
   "mimetype": "text/x-python",
   "name": "python",
   "nbconvert_exporter": "python",
   "pygments_lexer": "ipython3",
   "version": "3.6.9"
  }
 },
 "nbformat": 4,
 "nbformat_minor": 4
}
