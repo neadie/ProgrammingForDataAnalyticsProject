{
 "cells": [
  {
   "cell_type": "code",
   "execution_count": 1,
   "metadata": {},
   "outputs": [],
   "source": [
    "import numpy as np\n",
    "import matplotlib.pyplot as plt\n",
    "import pandas as pd"
   ]
  },
  {
   "cell_type": "markdown",
   "metadata": {},
   "source": [
    "## Generate Data from A Study of Sea kayak incidents in Ireland"
   ]
  },
  {
   "cell_type": "markdown",
   "metadata": {},
   "source": [
    "### Field experience"
   ]
  },
  {
   "cell_type": "markdown",
   "metadata": {},
   "source": [
    "For field experienced 0 means less than 5 years, 1 means more than 5 years 2 means 10 or more years .From [1] 70% of those in the survey had been paddling  5 or more years , with nearly half of them having 10 or more experience .  Therefore I generated a data set as below.\n",
    "35% - five or more experience\n",
    "35% - ten or more experince \n",
    "30% less than five years experience "
   ]
  },
  {
   "cell_type": "code",
   "execution_count": 56,
   "metadata": {},
   "outputs": [
    {
     "data": {
      "text/plain": [
       "0      2\n",
       "1      2\n",
       "2     17\n",
       "3     14\n",
       "4      9\n",
       "      ..\n",
       "95    10\n",
       "96    16\n",
       "97     2\n",
       "98     4\n",
       "99     2\n",
       "Length: 100, dtype: int64"
      ]
     },
     "execution_count": 56,
     "metadata": {},
     "output_type": "execute_result"
    }
   ],
   "source": [
    "experienced = []\n",
    "for i in range(35):\n",
    "    experienced.append(np.random.randint(6))\n",
    "for i in range(35):\n",
    "    experienced.append(np.random.randint(11))\n",
    "for i in range(30):\n",
    "    experienced.append(np.random.randint(20))  \n",
    "np.random.shuffle(experienced)\n",
    "\n",
    "Years_Of_Experience = pd.Series(experienced)\n",
    "Years_Of_Experience"
   ]
  },
  {
   "cell_type": "markdown",
   "metadata": {},
   "source": [
    "### Field Location"
   ]
  },
  {
   "cell_type": "markdown",
   "metadata": {},
   "source": [
    "For field Location \n",
    "0 means west coast\n",
    "1 means east coast\n",
    "2 means north coast\n",
    "3 means south Coast\n",
    "\n",
    "There was no information on location other than most incdients happened on the west coast. Thus therefore I split the 4 regions equally. \n",
    "%25 - west coast \n",
    "%25 east Coast\n",
    "%25 South Coast\n",
    "%25 North Coast\n",
    "\n"
   ]
  },
  {
   "cell_type": "code",
   "execution_count": 41,
   "metadata": {},
   "outputs": [
    {
     "data": {
      "text/plain": [
       "0     South Coast\n",
       "1     South Coast\n",
       "2     South Coast\n",
       "3      West Coast\n",
       "4      West Coast\n",
       "         ...     \n",
       "95    South Coast\n",
       "96    South Coast\n",
       "97    South Coast\n",
       "98    South Coast\n",
       "99    South Coast\n",
       "Length: 100, dtype: object"
      ]
     },
     "execution_count": 41,
     "metadata": {},
     "output_type": "execute_result"
    }
   ],
   "source": [
    "\n",
    "location = []\n",
    "for i in range(25):\n",
    "    location.append(0)\n",
    "for i in range(25):\n",
    "    location.append(1)\n",
    "for i in range(25):\n",
    "    location.append(2)\n",
    "for i in range(25):\n",
    "    location.append(3)    \n",
    "np.random.shuffle(location)\n",
    "\n",
    "for i in range(len(location)):\n",
    "    if location[i] == 0:\n",
    "        location[i] = \"West Coast\"\n",
    "    elif location  == 1:\n",
    "        location[i] = \"East Coast\"\n",
    "    elif location  == 2:\n",
    "        location[i] = \"North Coast\"\n",
    "    else:\n",
    "        location[i] = \"South Coast\"\n",
    "location_of_incident = pd.Series(location)\n",
    "location_of_incident"
   ]
  },
  {
   "cell_type": "markdown",
   "metadata": {},
   "source": [
    "### Field Wind Speed "
   ]
  },
  {
   "cell_type": "code",
   "execution_count": 61,
   "metadata": {},
   "outputs": [
    {
     "data": {
      "text/plain": [
       "0     18\n",
       "1     22\n",
       "2     11\n",
       "3     21\n",
       "4     23\n",
       "      ..\n",
       "95    37\n",
       "96     4\n",
       "97    34\n",
       "98     5\n",
       "99    36\n",
       "Length: 100, dtype: int64"
      ]
     },
     "execution_count": 61,
     "metadata": {},
     "output_type": "execute_result"
    }
   ],
   "source": [
    "windSpeed = []\n",
    "# 3rd of incidents happend in force 3 between 12km/h and 20 km/h\n",
    "for i in range(33):\n",
    "    windSpeed.append(np.random.randint(12,20))\n",
    "#  80% of incidents happend in force 4 and under \n",
    "for i in range(47):\n",
    "    windSpeed.append(np.random.randint(0,29))\n",
    "# 20% of incidents happened above force 4 \n",
    "for i in range(20):\n",
    "    windSpeed.append(np.random.randint(29,40))  \n",
    "np.random.shuffle(windSpeed)\n",
    "Wind_Speed = pd.Series(windSpeed)\n",
    "Wind_Speed"
   ]
  },
  {
   "cell_type": "markdown",
   "metadata": {},
   "source": [
    "### References \n",
    "\n",
    "1. Ray McCullagh and Keven 0'Callaghan,A Study of sea kayak incidents in Ireland https://issuu.com/lastudio/docs/14752_tnadt_63_issuu"
   ]
  },
  {
   "cell_type": "code",
   "execution_count": null,
   "metadata": {},
   "outputs": [],
   "source": []
  },
  {
   "cell_type": "code",
   "execution_count": null,
   "metadata": {},
   "outputs": [],
   "source": []
  }
 ],
 "metadata": {
  "kernelspec": {
   "display_name": "Python 3",
   "language": "python",
   "name": "python3"
  },
  "language_info": {
   "codemirror_mode": {
    "name": "ipython",
    "version": 3
   },
   "file_extension": ".py",
   "mimetype": "text/x-python",
   "name": "python",
   "nbconvert_exporter": "python",
   "pygments_lexer": "ipython3",
   "version": "3.6.9"
  }
 },
 "nbformat": 4,
 "nbformat_minor": 4
}
