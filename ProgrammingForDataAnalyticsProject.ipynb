{
 "cells": [
  {
   "cell_type": "code",
   "execution_count": 20,
   "metadata": {},
   "outputs": [],
   "source": [
    "import numpy as np\n",
    "import matplotlib.pyplot as plt\n",
    "import pandas as pd\n",
    "import seaborn as sns"
   ]
  },
  {
   "cell_type": "markdown",
   "metadata": {},
   "source": [
    "## Background to Irish Weather Buoy Network data"
   ]
  },
  {
   "cell_type": "markdown",
   "metadata": {},
   "source": [
    "For this analysis I going to use data from Irish weather buoy network data [[1](https://erddap.marine.ie/erddap/tabledap/IWBNetwork.html)] \n",
    "Here I read in dataset and have a peak at the data to see which columns to simulate for the study"
   ]
  },
  {
   "cell_type": "code",
   "execution_count": 35,
   "metadata": {},
   "outputs": [
    {
     "data": {
      "text/html": [
       "<div>\n",
       "<style scoped>\n",
       "    .dataframe tbody tr th:only-of-type {\n",
       "        vertical-align: middle;\n",
       "    }\n",
       "\n",
       "    .dataframe tbody tr th {\n",
       "        vertical-align: top;\n",
       "    }\n",
       "\n",
       "    .dataframe thead th {\n",
       "        text-align: right;\n",
       "    }\n",
       "</style>\n",
       "<table border=\"1\" class=\"dataframe\">\n",
       "  <thead>\n",
       "    <tr style=\"text-align: right;\">\n",
       "      <th></th>\n",
       "      <th>station_id</th>\n",
       "      <th>CallSign</th>\n",
       "      <th>longitude</th>\n",
       "      <th>latitude</th>\n",
       "      <th>time</th>\n",
       "      <th>AtmosphericPressure</th>\n",
       "      <th>WindDirection</th>\n",
       "      <th>WindSpeed</th>\n",
       "      <th>Gust</th>\n",
       "      <th>WaveHeight</th>\n",
       "      <th>...</th>\n",
       "      <th>Hmax</th>\n",
       "      <th>AirTemperature</th>\n",
       "      <th>DewPoint</th>\n",
       "      <th>SeaTemperature</th>\n",
       "      <th>salinity</th>\n",
       "      <th>RelativeHumidity</th>\n",
       "      <th>SprTp</th>\n",
       "      <th>ThTp</th>\n",
       "      <th>Tp</th>\n",
       "      <th>QC_Flag</th>\n",
       "    </tr>\n",
       "  </thead>\n",
       "  <tbody>\n",
       "    <tr>\n",
       "      <td>0</td>\n",
       "      <td>NaN</td>\n",
       "      <td>NaN</td>\n",
       "      <td>degrees_east</td>\n",
       "      <td>degrees_north</td>\n",
       "      <td>UTC</td>\n",
       "      <td>mb</td>\n",
       "      <td>degrees_true</td>\n",
       "      <td>kn</td>\n",
       "      <td>kn</td>\n",
       "      <td>m</td>\n",
       "      <td>...</td>\n",
       "      <td>m</td>\n",
       "      <td>degree_C</td>\n",
       "      <td>degree_C</td>\n",
       "      <td>degree_C</td>\n",
       "      <td>PSU</td>\n",
       "      <td>percent</td>\n",
       "      <td>degrees</td>\n",
       "      <td>degrees_true</td>\n",
       "      <td>s</td>\n",
       "      <td>NaN</td>\n",
       "    </tr>\n",
       "    <tr>\n",
       "      <td>1</td>\n",
       "      <td>M2</td>\n",
       "      <td>62091.0</td>\n",
       "      <td>-5.4302</td>\n",
       "      <td>53.4836</td>\n",
       "      <td>2019-11-30T00:00:00Z</td>\n",
       "      <td>1019.482</td>\n",
       "      <td>140.0</td>\n",
       "      <td>11.385</td>\n",
       "      <td>15.654</td>\n",
       "      <td>0.586</td>\n",
       "      <td>...</td>\n",
       "      <td>0.703</td>\n",
       "      <td>8.75</td>\n",
       "      <td>NaN</td>\n",
       "      <td>12.441</td>\n",
       "      <td>NaN</td>\n",
       "      <td>64.844</td>\n",
       "      <td>32.344</td>\n",
       "      <td>156.094</td>\n",
       "      <td>2.813</td>\n",
       "      <td>0.0</td>\n",
       "    </tr>\n",
       "    <tr>\n",
       "      <td>2</td>\n",
       "      <td>M3</td>\n",
       "      <td>62092.0</td>\n",
       "      <td>-10.548261</td>\n",
       "      <td>51.215956</td>\n",
       "      <td>2019-11-30T00:00:00Z</td>\n",
       "      <td>1007.324</td>\n",
       "      <td>110.0</td>\n",
       "      <td>24.477</td>\n",
       "      <td>33.3</td>\n",
       "      <td>2.344</td>\n",
       "      <td>...</td>\n",
       "      <td>3.281</td>\n",
       "      <td>10.898</td>\n",
       "      <td>NaN</td>\n",
       "      <td>10.859</td>\n",
       "      <td>NaN</td>\n",
       "      <td>87.891</td>\n",
       "      <td>28.125</td>\n",
       "      <td>116.719</td>\n",
       "      <td>5.742</td>\n",
       "      <td>0.0</td>\n",
       "    </tr>\n",
       "    <tr>\n",
       "      <td>3</td>\n",
       "      <td>M4</td>\n",
       "      <td>62093.0</td>\n",
       "      <td>-9.999136</td>\n",
       "      <td>54.999967</td>\n",
       "      <td>2019-11-30T00:00:00Z</td>\n",
       "      <td>1017.48</td>\n",
       "      <td>117.0</td>\n",
       "      <td>18.073</td>\n",
       "      <td>22.343</td>\n",
       "      <td>1.758</td>\n",
       "      <td>...</td>\n",
       "      <td>2.109</td>\n",
       "      <td>7.871</td>\n",
       "      <td>NaN</td>\n",
       "      <td>10.781</td>\n",
       "      <td>NaN</td>\n",
       "      <td>NaN</td>\n",
       "      <td>61.875</td>\n",
       "      <td>357.188</td>\n",
       "      <td>9.609</td>\n",
       "      <td>0.0</td>\n",
       "    </tr>\n",
       "    <tr>\n",
       "      <td>4</td>\n",
       "      <td>M5</td>\n",
       "      <td>62094.0</td>\n",
       "      <td>-6.704336</td>\n",
       "      <td>51.690425</td>\n",
       "      <td>2019-11-30T00:00:00Z</td>\n",
       "      <td>1015.125</td>\n",
       "      <td>121.0</td>\n",
       "      <td>21.062</td>\n",
       "      <td>26.754</td>\n",
       "      <td>1.563</td>\n",
       "      <td>...</td>\n",
       "      <td>1.875</td>\n",
       "      <td>10.654</td>\n",
       "      <td>NaN</td>\n",
       "      <td>11.865</td>\n",
       "      <td>NaN</td>\n",
       "      <td>85.547</td>\n",
       "      <td>36.563</td>\n",
       "      <td>105.469</td>\n",
       "      <td>5.508</td>\n",
       "      <td>0.0</td>\n",
       "    </tr>\n",
       "  </tbody>\n",
       "</table>\n",
       "<p>5 rows × 22 columns</p>\n",
       "</div>"
      ],
      "text/plain": [
       "  station_id  CallSign     longitude       latitude                  time  \\\n",
       "0        NaN       NaN  degrees_east  degrees_north                   UTC   \n",
       "1         M2   62091.0       -5.4302        53.4836  2019-11-30T00:00:00Z   \n",
       "2         M3   62092.0    -10.548261      51.215956  2019-11-30T00:00:00Z   \n",
       "3         M4   62093.0     -9.999136      54.999967  2019-11-30T00:00:00Z   \n",
       "4         M5   62094.0     -6.704336      51.690425  2019-11-30T00:00:00Z   \n",
       "\n",
       "  AtmosphericPressure WindDirection WindSpeed    Gust WaveHeight  ...   Hmax  \\\n",
       "0                  mb  degrees_true        kn      kn          m  ...      m   \n",
       "1            1019.482         140.0    11.385  15.654      0.586  ...  0.703   \n",
       "2            1007.324         110.0    24.477    33.3      2.344  ...  3.281   \n",
       "3             1017.48         117.0    18.073  22.343      1.758  ...  2.109   \n",
       "4            1015.125         121.0    21.062  26.754      1.563  ...  1.875   \n",
       "\n",
       "  AirTemperature  DewPoint SeaTemperature salinity RelativeHumidity    SprTp  \\\n",
       "0       degree_C  degree_C       degree_C      PSU          percent  degrees   \n",
       "1           8.75       NaN         12.441      NaN           64.844   32.344   \n",
       "2         10.898       NaN         10.859      NaN           87.891   28.125   \n",
       "3          7.871       NaN         10.781      NaN              NaN   61.875   \n",
       "4         10.654       NaN         11.865      NaN           85.547   36.563   \n",
       "\n",
       "           ThTp     Tp QC_Flag  \n",
       "0  degrees_true      s     NaN  \n",
       "1       156.094  2.813     0.0  \n",
       "2       116.719  5.742     0.0  \n",
       "3       357.188  9.609     0.0  \n",
       "4       105.469  5.508     0.0  \n",
       "\n",
       "[5 rows x 22 columns]"
      ]
     },
     "execution_count": 35,
     "metadata": {},
     "output_type": "execute_result"
    }
   ],
   "source": [
    "waveBuoyReal = pd.read_csv('IWBNetwork_d7a0_c1fd_81c3.csv')\n",
    "\n",
    "waveBuoyReal.head()"
   ]
  },
  {
   "cell_type": "markdown",
   "metadata": {},
   "source": [
    "The head method above shown me that the first rows would not be used for inital analysis for the dataset as these are units. These must be removed "
   ]
  },
  {
   "cell_type": "code",
   "execution_count": 38,
   "metadata": {},
   "outputs": [
    {
     "data": {
      "text/html": [
       "<div>\n",
       "<style scoped>\n",
       "    .dataframe tbody tr th:only-of-type {\n",
       "        vertical-align: middle;\n",
       "    }\n",
       "\n",
       "    .dataframe tbody tr th {\n",
       "        vertical-align: top;\n",
       "    }\n",
       "\n",
       "    .dataframe thead th {\n",
       "        text-align: right;\n",
       "    }\n",
       "</style>\n",
       "<table border=\"1\" class=\"dataframe\">\n",
       "  <thead>\n",
       "    <tr style=\"text-align: right;\">\n",
       "      <th></th>\n",
       "      <th>station_id</th>\n",
       "      <th>CallSign</th>\n",
       "      <th>longitude</th>\n",
       "      <th>latitude</th>\n",
       "      <th>time</th>\n",
       "      <th>AtmosphericPressure</th>\n",
       "      <th>WindDirection</th>\n",
       "      <th>WindSpeed</th>\n",
       "      <th>Gust</th>\n",
       "      <th>WaveHeight</th>\n",
       "      <th>...</th>\n",
       "      <th>Hmax</th>\n",
       "      <th>AirTemperature</th>\n",
       "      <th>DewPoint</th>\n",
       "      <th>SeaTemperature</th>\n",
       "      <th>salinity</th>\n",
       "      <th>RelativeHumidity</th>\n",
       "      <th>SprTp</th>\n",
       "      <th>ThTp</th>\n",
       "      <th>Tp</th>\n",
       "      <th>QC_Flag</th>\n",
       "    </tr>\n",
       "  </thead>\n",
       "  <tbody>\n",
       "    <tr>\n",
       "      <td>1</td>\n",
       "      <td>M2</td>\n",
       "      <td>62091.0</td>\n",
       "      <td>-5.4302</td>\n",
       "      <td>53.4836</td>\n",
       "      <td>2019-11-30T00:00:00Z</td>\n",
       "      <td>1019.482</td>\n",
       "      <td>140.0</td>\n",
       "      <td>11.385</td>\n",
       "      <td>15.654</td>\n",
       "      <td>0.586</td>\n",
       "      <td>...</td>\n",
       "      <td>0.703</td>\n",
       "      <td>8.75</td>\n",
       "      <td>NaN</td>\n",
       "      <td>12.441</td>\n",
       "      <td>NaN</td>\n",
       "      <td>64.844</td>\n",
       "      <td>32.344</td>\n",
       "      <td>156.094</td>\n",
       "      <td>2.813</td>\n",
       "      <td>0.0</td>\n",
       "    </tr>\n",
       "    <tr>\n",
       "      <td>2</td>\n",
       "      <td>M3</td>\n",
       "      <td>62092.0</td>\n",
       "      <td>-10.548261</td>\n",
       "      <td>51.215956</td>\n",
       "      <td>2019-11-30T00:00:00Z</td>\n",
       "      <td>1007.324</td>\n",
       "      <td>110.0</td>\n",
       "      <td>24.477</td>\n",
       "      <td>33.3</td>\n",
       "      <td>2.344</td>\n",
       "      <td>...</td>\n",
       "      <td>3.281</td>\n",
       "      <td>10.898</td>\n",
       "      <td>NaN</td>\n",
       "      <td>10.859</td>\n",
       "      <td>NaN</td>\n",
       "      <td>87.891</td>\n",
       "      <td>28.125</td>\n",
       "      <td>116.719</td>\n",
       "      <td>5.742</td>\n",
       "      <td>0.0</td>\n",
       "    </tr>\n",
       "    <tr>\n",
       "      <td>3</td>\n",
       "      <td>M4</td>\n",
       "      <td>62093.0</td>\n",
       "      <td>-9.999136</td>\n",
       "      <td>54.999967</td>\n",
       "      <td>2019-11-30T00:00:00Z</td>\n",
       "      <td>1017.48</td>\n",
       "      <td>117.0</td>\n",
       "      <td>18.073</td>\n",
       "      <td>22.343</td>\n",
       "      <td>1.758</td>\n",
       "      <td>...</td>\n",
       "      <td>2.109</td>\n",
       "      <td>7.871</td>\n",
       "      <td>NaN</td>\n",
       "      <td>10.781</td>\n",
       "      <td>NaN</td>\n",
       "      <td>NaN</td>\n",
       "      <td>61.875</td>\n",
       "      <td>357.188</td>\n",
       "      <td>9.609</td>\n",
       "      <td>0.0</td>\n",
       "    </tr>\n",
       "    <tr>\n",
       "      <td>4</td>\n",
       "      <td>M5</td>\n",
       "      <td>62094.0</td>\n",
       "      <td>-6.704336</td>\n",
       "      <td>51.690425</td>\n",
       "      <td>2019-11-30T00:00:00Z</td>\n",
       "      <td>1015.125</td>\n",
       "      <td>121.0</td>\n",
       "      <td>21.062</td>\n",
       "      <td>26.754</td>\n",
       "      <td>1.563</td>\n",
       "      <td>...</td>\n",
       "      <td>1.875</td>\n",
       "      <td>10.654</td>\n",
       "      <td>NaN</td>\n",
       "      <td>11.865</td>\n",
       "      <td>NaN</td>\n",
       "      <td>85.547</td>\n",
       "      <td>36.563</td>\n",
       "      <td>105.469</td>\n",
       "      <td>5.508</td>\n",
       "      <td>0.0</td>\n",
       "    </tr>\n",
       "    <tr>\n",
       "      <td>5</td>\n",
       "      <td>M6</td>\n",
       "      <td>62095.0</td>\n",
       "      <td>-15.88135</td>\n",
       "      <td>53.07482</td>\n",
       "      <td>2019-11-30T00:00:00Z</td>\n",
       "      <td>1006.978</td>\n",
       "      <td>112.0</td>\n",
       "      <td>19.809</td>\n",
       "      <td>29.145</td>\n",
       "      <td>3.359</td>\n",
       "      <td>...</td>\n",
       "      <td>4.531</td>\n",
       "      <td>10.752</td>\n",
       "      <td>NaN</td>\n",
       "      <td>11.758</td>\n",
       "      <td>NaN</td>\n",
       "      <td>91.113</td>\n",
       "      <td>67.148</td>\n",
       "      <td>143.438</td>\n",
       "      <td>6.797</td>\n",
       "      <td>0.0</td>\n",
       "    </tr>\n",
       "  </tbody>\n",
       "</table>\n",
       "<p>5 rows × 22 columns</p>\n",
       "</div>"
      ],
      "text/plain": [
       "  station_id  CallSign   longitude   latitude                  time  \\\n",
       "1         M2   62091.0     -5.4302    53.4836  2019-11-30T00:00:00Z   \n",
       "2         M3   62092.0  -10.548261  51.215956  2019-11-30T00:00:00Z   \n",
       "3         M4   62093.0   -9.999136  54.999967  2019-11-30T00:00:00Z   \n",
       "4         M5   62094.0   -6.704336  51.690425  2019-11-30T00:00:00Z   \n",
       "5         M6   62095.0   -15.88135   53.07482  2019-11-30T00:00:00Z   \n",
       "\n",
       "  AtmosphericPressure WindDirection WindSpeed    Gust WaveHeight  ...   Hmax  \\\n",
       "1            1019.482         140.0    11.385  15.654      0.586  ...  0.703   \n",
       "2            1007.324         110.0    24.477    33.3      2.344  ...  3.281   \n",
       "3             1017.48         117.0    18.073  22.343      1.758  ...  2.109   \n",
       "4            1015.125         121.0    21.062  26.754      1.563  ...  1.875   \n",
       "5            1006.978         112.0    19.809  29.145      3.359  ...  4.531   \n",
       "\n",
       "  AirTemperature DewPoint SeaTemperature salinity RelativeHumidity   SprTp  \\\n",
       "1           8.75      NaN         12.441      NaN           64.844  32.344   \n",
       "2         10.898      NaN         10.859      NaN           87.891  28.125   \n",
       "3          7.871      NaN         10.781      NaN              NaN  61.875   \n",
       "4         10.654      NaN         11.865      NaN           85.547  36.563   \n",
       "5         10.752      NaN         11.758      NaN           91.113  67.148   \n",
       "\n",
       "      ThTp     Tp QC_Flag  \n",
       "1  156.094  2.813     0.0  \n",
       "2  116.719  5.742     0.0  \n",
       "3  357.188  9.609     0.0  \n",
       "4  105.469  5.508     0.0  \n",
       "5  143.438  6.797     0.0  \n",
       "\n",
       "[5 rows x 22 columns]"
      ]
     },
     "execution_count": 38,
     "metadata": {},
     "output_type": "execute_result"
    }
   ],
   "source": [
    "waveBuoyRealDataSet = waveBuoyReal.iloc[1:]\n",
    "waveBuoyRealDataSet.head()"
   ]
  },
  {
   "cell_type": "markdown",
   "metadata": {},
   "source": [
    "### Display distributions for fields of interst to wave height"
   ]
  },
  {
   "cell_type": "markdown",
   "metadata": {},
   "source": [
    "The fields I use are the following  may discount some as there may be not relationship in the investigation\n",
    "- station_id String \n",
    "- time Datetime\n",
    "- AtmosphericPressure number\n",
    "- WindDirection String \n",
    "- WindSpeed number\n",
    "- Gust number \n",
    "- WaveHeight number \n",
    "- Hmax(Maximum Wave Height) number \n",
    "- AirTemperature number\n",
    "- SeaTemperature number \n",
    "- RelativeHumidity number \n",
    "\n",
    "\n",
    "I am going to create a histrogram for each field so I can see what distributin if any field is in . First thing I might have to change values for columns are pandas often read in data as generic object types "
   ]
  },
  {
   "cell_type": "code",
   "execution_count": 39,
   "metadata": {},
   "outputs": [
    {
     "data": {
      "text/plain": [
       "station_id             object\n",
       "time                   object\n",
       "AtmosphericPressure    object\n",
       "WindDirection          object\n",
       "WindSpeed              object\n",
       "Gust                   object\n",
       "WaveHeight             object\n",
       "WavePeriod             object\n",
       "Hmax                   object\n",
       "AirTemperature         object\n",
       "SeaTemperature         object\n",
       "RelativeHumidity       object\n",
       "dtype: object"
      ]
     },
     "execution_count": 39,
     "metadata": {},
     "output_type": "execute_result"
    }
   ],
   "source": [
    "realwaveBuoyDataSet = waveBuoyRealDataSet[['station_id','time','AtmosphericPressure','WindDirection','WindSpeed','Gust','WaveHeight','WavePeriod','Hmax','AirTemperature','SeaTemperature','RelativeHumidity']]\n",
    "realwaveBuoyDataSet.dtypes"
   ]
  },
  {
   "cell_type": "markdown",
   "metadata": {},
   "source": [
    "From above shows that I must change all data types to whatever type they should be \n",
    "### Numeric fields \n"
   ]
  },
  {
   "cell_type": "code",
   "execution_count": 63,
   "metadata": {},
   "outputs": [
    {
     "data": {
      "text/plain": [
       "station_id                          object\n",
       "time                   datetime64[ns, UTC]\n",
       "AtmosphericPressure                float64\n",
       "WindDirection                      float64\n",
       "WindSpeed                          float64\n",
       "Gust                               float64\n",
       "WaveHeight                         float64\n",
       "WavePeriod                         float64\n",
       "Hmax                               float64\n",
       "AirTemperature                     float64\n",
       "SeaTemperature                     float64\n",
       "RelativeHumidity                   float64\n",
       "dtype: object"
      ]
     },
     "execution_count": 63,
     "metadata": {},
     "output_type": "execute_result"
    }
   ],
   "source": [
    "realwaveBuoyDataSet.iloc[:,0]= realwaveBuoyDataSet.iloc[:,0].astype(str)\n",
    "realwaveBuoyDataSet.iloc[:,1] = pd.to_datetime(realwaveBuoyDataSet.iloc[:,1],errors='ignore')\n",
    "realwaveBuoyDataSet.iloc[:,2] = pd.to_numeric(realwaveBuoyDataSet.iloc[:,2],errors='ignore')\n",
    "realwaveBuoyDataSet.iloc[:,3] = pd.to_numeric(realwaveBuoyDataSet.iloc[:,3],errors='ignore')\n",
    "realwaveBuoyDataSet.iloc[:,4] = pd.to_numeric(realwaveBuoyDataSet.iloc[:,4],errors='ignore')\n",
    "realwaveBuoyDataSet.iloc[:,5] = pd.to_numeric(realwaveBuoyDataSet.iloc[:,5],errors='ignore')\n",
    "realwaveBuoyDataSet.iloc[:,6] = pd.to_numeric(realwaveBuoyDataSet.iloc[:,6],errors='ignore')\n",
    "realwaveBuoyDataSet.iloc[:,7] = pd.to_numeric(realwaveBuoyDataSet.iloc[:,7],errors='ignore')\n",
    "realwaveBuoyDataSet.iloc[:,8] = pd.to_numeric(realwaveBuoyDataSet.iloc[:,8],errors='ignore')\n",
    "realwaveBuoyDataSet.iloc[:,9] = pd.to_numeric(realwaveBuoyDataSet.iloc[:,9],errors='ignore')\n",
    "realwaveBuoyDataSet.iloc[:,10] = pd.to_numeric(realwaveBuoyDataSet.iloc[:,10],errors='ignore')\n",
    "realwaveBuoyDataSet.iloc[:,11] = pd.to_numeric(realwaveBuoyDataSet.iloc[:,11],errors='ignore')\n",
    "realwaveBuoyDataSet.dtypes"
   ]
  },
  {
   "cell_type": "markdown",
   "metadata": {},
   "source": [
    "#### Histrogram of Atmoseric pressure "
   ]
  },
  {
   "cell_type": "code",
   "execution_count": 70,
   "metadata": {},
   "outputs": [
    {
     "data": {
      "text/plain": [
       "<seaborn.axisgrid.FacetGrid at 0x7f5f11ac6438>"
      ]
     },
     "execution_count": 70,
     "metadata": {},
     "output_type": "execute_result"
    },
    {
     "data": {
      "image/png": "[encoded data removed]",
      "text/plain": [
       "<Figure size 1080x216 with 5 Axes>"
      ]
     },
     "metadata": {
      "needs_background": "light"
     },
     "output_type": "display_data"
    }
   ],
   "source": [
    "\n",
    "g = sns.FacetGrid(realwaveBuoyDataSet , col=\"station_id\")\n",
    "g = g.map(plt.hist, \"AtmosphericPressure\")\n",
    "g"
   ]
  },
  {
   "cell_type": "code",
   "execution_count": null,
   "metadata": {},
   "outputs": [],
   "source": [
    "Histrogram of Wind speed \n",
    "col\n",
    "​\n",
    "g = sns.FacetGrid(realwaveBuoyDataSet , col=\"station_id\")\n",
    "g = g.map(plt.hist, \"AtmosphericPressure\")\n",
    "g"
   ]
  },
  {
   "cell_type": "code",
   "execution_count": null,
   "metadata": {},
   "outputs": [],
   "source": []
  },
  {
   "cell_type": "markdown",
   "metadata": {},
   "source": [
    "### Field experience"
   ]
  },
  {
   "cell_type": "markdown",
   "metadata": {},
   "source": [
    ".From [[1](https://issuu.com/lastudio/docs/14752_tnadt_63_issuu)] 70% of those in the survey had been paddling  5 or more years , with nearly half of them having 10 or more experience .  Therefore I generated a data set as below.\n",
    "35% - five or more experience\n",
    "35% - ten or more experince \n",
    "30% less than five years experience "
   ]
  },
  {
   "cell_type": "code",
   "execution_count": 2,
   "metadata": {},
   "outputs": [
    {
     "data": {
      "text/plain": [
       "0     3\n",
       "1     3\n",
       "2     5\n",
       "3     6\n",
       "4     3\n",
       "     ..\n",
       "95    7\n",
       "96    1\n",
       "97    7\n",
       "98    1\n",
       "99    6\n",
       "Length: 100, dtype: int64"
      ]
     },
     "execution_count": 2,
     "metadata": {},
     "output_type": "execute_result"
    }
   ],
   "source": [
    "experienced = []\n",
    "for i in range(35):\n",
    "    experienced.append(np.random.randint(6))\n",
    "for i in range(35):\n",
    "    experienced.append(np.random.randint(11))\n",
    "for i in range(30):\n",
    "    experienced.append(np.random.randint(20))  \n",
    "np.random.shuffle(experienced)\n",
    "\n",
    "Years_Of_Experience = pd.Series(experienced)\n",
    "Years_Of_Experience"
   ]
  },
  {
   "cell_type": "markdown",
   "metadata": {},
   "source": [
    "### Field Location"
   ]
  },
  {
   "cell_type": "markdown",
   "metadata": {},
   "source": [
    "\n",
    "\n",
    "There was no information on location other than most incdients happened on the west coast. Thus therefore I split the 4 regions equally. \n",
    "%25 - west coast \n",
    "%25 east Coast\n",
    "%25 South Coast\n",
    "%25 North Coast\n",
    "\n"
   ]
  },
  {
   "cell_type": "code",
   "execution_count": 3,
   "metadata": {},
   "outputs": [
    {
     "data": {
      "text/plain": [
       "0      West Coast\n",
       "1      West Coast\n",
       "2     South Coast\n",
       "3     South Coast\n",
       "4      West Coast\n",
       "         ...     \n",
       "95     West Coast\n",
       "96    South Coast\n",
       "97    South Coast\n",
       "98    South Coast\n",
       "99     West Coast\n",
       "Length: 100, dtype: object"
      ]
     },
     "execution_count": 3,
     "metadata": {},
     "output_type": "execute_result"
    }
   ],
   "source": [
    "\n",
    "location = []\n",
    "for i in range(25):\n",
    "    location.append(0)\n",
    "for i in range(25):\n",
    "    location.append(1)\n",
    "for i in range(25):\n",
    "    location.append(2)\n",
    "for i in range(25):\n",
    "    location.append(3)    \n",
    "np.random.shuffle(location)\n",
    "\n",
    "for i in range(len(location)):\n",
    "    if location[i] == 0:\n",
    "        location[i] = \"West Coast\"\n",
    "    elif location  == 1:\n",
    "        location[i] = \"East Coast\"\n",
    "    elif location  == 2:\n",
    "        location[i] = \"North Coast\"\n",
    "    else:\n",
    "        location[i] = \"South Coast\"\n",
    "location_of_incident = pd.Series(location)\n",
    "location_of_incident"
   ]
  },
  {
   "cell_type": "markdown",
   "metadata": {},
   "source": [
    "### Field Wind Speed "
   ]
  },
  {
   "cell_type": "code",
   "execution_count": 4,
   "metadata": {},
   "outputs": [
    {
     "data": {
      "text/plain": [
       "0     14\n",
       "1     17\n",
       "2     20\n",
       "3     18\n",
       "4     14\n",
       "      ..\n",
       "95    27\n",
       "96    13\n",
       "97     6\n",
       "98    39\n",
       "99    13\n",
       "Length: 100, dtype: int64"
      ]
     },
     "execution_count": 4,
     "metadata": {},
     "output_type": "execute_result"
    }
   ],
   "source": [
    "windSpeed = []\n",
    "# 3rd of incidents happend in force 3 between 12km/h and 20 km/h\n",
    "for i in range(33):\n",
    "    windSpeed.append(np.random.randint(12,20))\n",
    "#  80% of incidents happend in force 4 and under \n",
    "for i in range(47):\n",
    "    windSpeed.append(np.random.randint(0,29))\n",
    "# 20% of incidents happened above force 4 \n",
    "for i in range(20):\n",
    "    windSpeed.append(np.random.randint(29,40))  \n",
    "np.random.shuffle(windSpeed)\n",
    "Wind_Speed = pd.Series(windSpeed)\n",
    "Wind_Speed"
   ]
  },
  {
   "cell_type": "markdown",
   "metadata": {},
   "source": [
    "### Group Size "
   ]
  },
  {
   "cell_type": "code",
   "execution_count": 5,
   "metadata": {},
   "outputs": [
    {
     "data": {
      "text/plain": [
       "0      7\n",
       "1      8\n",
       "2      7\n",
       "3      4\n",
       "4     12\n",
       "      ..\n",
       "95     8\n",
       "96     8\n",
       "97     1\n",
       "98     3\n",
       "99     8\n",
       "Length: 100, dtype: int64"
      ]
     },
     "execution_count": 5,
     "metadata": {},
     "output_type": "execute_result"
    }
   ],
   "source": [
    "groupSize = []\n",
    "# Most incidents occured when group size was between 7 and 8 people\n",
    "for i in range(60):\n",
    "    groupSize.append(np.random.randint(7,9))\n",
    "#  Followed by between 3 and 4 people\n",
    "for i in range(30):\n",
    "    groupSize.append(np.random.randint(3,5))\n",
    "# Only 4 incidents 1 person was in the paddle\n",
    "for i in range(4):\n",
    "    groupSize.append(1)\n",
    "# All other size groups\n",
    "groupSize.append(2)\n",
    "groupSize.append(5)\n",
    "groupSize.append(6)\n",
    "groupSize.append(12)\n",
    "groupSize.append(9)\n",
    "groupSize.append(10)\n",
    "\n",
    "\n",
    "\n",
    "np.random.shuffle(groupSize)\n",
    "group_Size = pd.Series(groupSize)\n",
    "group_Size"
   ]
  },
  {
   "cell_type": "markdown",
   "metadata": {},
   "source": [
    "### Field Formal Training "
   ]
  },
  {
   "cell_type": "code",
   "execution_count": 6,
   "metadata": {},
   "outputs": [
    {
     "data": {
      "text/plain": [
       "0     Yes\n",
       "1     Yes\n",
       "2     Yes\n",
       "3     Yes\n",
       "4      No\n",
       "     ... \n",
       "95    Yes\n",
       "96     No\n",
       "97    Yes\n",
       "98    Yes\n",
       "99     No\n",
       "Length: 100, dtype: object"
      ]
     },
     "execution_count": 6,
     "metadata": {},
     "output_type": "execute_result"
    }
   ],
   "source": [
    "training = []\n",
    "for i in range(30):\n",
    "    training.append(0)\n",
    "for i in range(70):\n",
    "    training.append(1)\n",
    " \n",
    "np.random.shuffle(training)\n",
    "\n",
    "for i in range(len(training)):\n",
    "    if training[i] == 0:\n",
    "        training[i] = \"No\"\n",
    "    elif training[i]  == 1:\n",
    "        training[i] = \"Yes\"\n",
    "    \n",
    "Formal_training = pd.Series(training)\n",
    "Formal_training "
   ]
  },
  {
   "cell_type": "markdown",
   "metadata": {},
   "source": [
    "### Field trip Type\n"
   ]
  },
  {
   "cell_type": "code",
   "execution_count": 7,
   "metadata": {},
   "outputs": [
    {
     "data": {
      "text/plain": [
       "0     Cliff CoastLine\n",
       "1     Cliff CoastLine\n",
       "2        Dumping Surf\n",
       "3               Other\n",
       "4               Other\n",
       "           ...       \n",
       "95              Other\n",
       "96    Cliff CoastLine\n",
       "97       Dumping Surf\n",
       "98    Cliff CoastLine\n",
       "99    Cliff CoastLine\n",
       "Length: 100, dtype: object"
      ]
     },
     "execution_count": 7,
     "metadata": {},
     "output_type": "execute_result"
    }
   ],
   "source": [
    "tripType = []\n",
    "for i in range(60):\n",
    "    tripType.append(0)\n",
    "for i in range(30):\n",
    "    tripType.append(1)\n",
    "for i in range(10):\n",
    "    tripType.append(2)\n",
    " \n",
    "np.random.shuffle(tripType)\n",
    "\n",
    "for i in range(len(tripType)):\n",
    "    if tripType[i] == 0:\n",
    "        tripType[i] = \"Cliff CoastLine\"\n",
    "    elif tripType[i]  == 1:\n",
    "        tripType[i] = \"Dumping Surf\"\n",
    "    else:\n",
    "        tripType[i] = \"Other\"\n",
    "        \n",
    "    \n",
    "Trip_Type = pd.Series(tripType)\n",
    "Trip_Type"
   ]
  },
  {
   "cell_type": "code",
   "execution_count": 8,
   "metadata": {},
   "outputs": [
    {
     "data": {
      "text/html": [
       "<div>\n",
       "<style scoped>\n",
       "    .dataframe tbody tr th:only-of-type {\n",
       "        vertical-align: middle;\n",
       "    }\n",
       "\n",
       "    .dataframe tbody tr th {\n",
       "        vertical-align: top;\n",
       "    }\n",
       "\n",
       "    .dataframe thead th {\n",
       "        text-align: right;\n",
       "    }\n",
       "</style>\n",
       "<table border=\"1\" class=\"dataframe\">\n",
       "  <thead>\n",
       "    <tr style=\"text-align: right;\">\n",
       "      <th></th>\n",
       "      <th>experience</th>\n",
       "      <th>wind Speed</th>\n",
       "      <th>group Size</th>\n",
       "    </tr>\n",
       "  </thead>\n",
       "  <tbody>\n",
       "    <tr>\n",
       "      <td>count</td>\n",
       "      <td>100.000000</td>\n",
       "      <td>100.000000</td>\n",
       "      <td>100.000000</td>\n",
       "    </tr>\n",
       "    <tr>\n",
       "      <td>mean</td>\n",
       "      <td>5.800000</td>\n",
       "      <td>19.070000</td>\n",
       "      <td>6.060000</td>\n",
       "    </tr>\n",
       "    <tr>\n",
       "      <td>std</td>\n",
       "      <td>4.888659</td>\n",
       "      <td>9.752757</td>\n",
       "      <td>2.282211</td>\n",
       "    </tr>\n",
       "    <tr>\n",
       "      <td>min</td>\n",
       "      <td>0.000000</td>\n",
       "      <td>0.000000</td>\n",
       "      <td>1.000000</td>\n",
       "    </tr>\n",
       "    <tr>\n",
       "      <td>25%</td>\n",
       "      <td>3.000000</td>\n",
       "      <td>13.000000</td>\n",
       "      <td>4.000000</td>\n",
       "    </tr>\n",
       "    <tr>\n",
       "      <td>50%</td>\n",
       "      <td>5.000000</td>\n",
       "      <td>17.000000</td>\n",
       "      <td>7.000000</td>\n",
       "    </tr>\n",
       "    <tr>\n",
       "      <td>75%</td>\n",
       "      <td>7.250000</td>\n",
       "      <td>27.000000</td>\n",
       "      <td>8.000000</td>\n",
       "    </tr>\n",
       "    <tr>\n",
       "      <td>max</td>\n",
       "      <td>19.000000</td>\n",
       "      <td>39.000000</td>\n",
       "      <td>12.000000</td>\n",
       "    </tr>\n",
       "  </tbody>\n",
       "</table>\n",
       "</div>"
      ],
      "text/plain": [
       "       experience  wind Speed  group Size\n",
       "count  100.000000  100.000000  100.000000\n",
       "mean     5.800000   19.070000    6.060000\n",
       "std      4.888659    9.752757    2.282211\n",
       "min      0.000000    0.000000    1.000000\n",
       "25%      3.000000   13.000000    4.000000\n",
       "50%      5.000000   17.000000    7.000000\n",
       "75%      7.250000   27.000000    8.000000\n",
       "max     19.000000   39.000000   12.000000"
      ]
     },
     "execution_count": 8,
     "metadata": {},
     "output_type": "execute_result"
    }
   ],
   "source": [
    "frame = { 'experience': Years_Of_Experience, 'location': location_of_incident ,'wind Speed':Wind_Speed,'group Size':group_Size,\n",
    "        'training':Formal_training,'trip Type':Trip_Type} \n",
    "  \n",
    "result = pd.DataFrame(frame) \n",
    "result.describe()"
   ]
  },
  {
   "cell_type": "code",
   "execution_count": 9,
   "metadata": {},
   "outputs": [
    {
     "data": {
      "text/html": [
       "<div>\n",
       "<style scoped>\n",
       "    .dataframe tbody tr th:only-of-type {\n",
       "        vertical-align: middle;\n",
       "    }\n",
       "\n",
       "    .dataframe tbody tr th {\n",
       "        vertical-align: top;\n",
       "    }\n",
       "\n",
       "    .dataframe thead th {\n",
       "        text-align: right;\n",
       "    }\n",
       "</style>\n",
       "<table border=\"1\" class=\"dataframe\">\n",
       "  <thead>\n",
       "    <tr style=\"text-align: right;\">\n",
       "      <th></th>\n",
       "      <th>experience</th>\n",
       "      <th>location</th>\n",
       "      <th>wind Speed</th>\n",
       "      <th>group Size</th>\n",
       "      <th>training</th>\n",
       "      <th>trip Type</th>\n",
       "    </tr>\n",
       "  </thead>\n",
       "  <tbody>\n",
       "    <tr>\n",
       "      <td>0</td>\n",
       "      <td>3</td>\n",
       "      <td>West Coast</td>\n",
       "      <td>14</td>\n",
       "      <td>7</td>\n",
       "      <td>Yes</td>\n",
       "      <td>Cliff CoastLine</td>\n",
       "    </tr>\n",
       "    <tr>\n",
       "      <td>1</td>\n",
       "      <td>3</td>\n",
       "      <td>West Coast</td>\n",
       "      <td>17</td>\n",
       "      <td>8</td>\n",
       "      <td>Yes</td>\n",
       "      <td>Cliff CoastLine</td>\n",
       "    </tr>\n",
       "    <tr>\n",
       "      <td>2</td>\n",
       "      <td>5</td>\n",
       "      <td>South Coast</td>\n",
       "      <td>20</td>\n",
       "      <td>7</td>\n",
       "      <td>Yes</td>\n",
       "      <td>Dumping Surf</td>\n",
       "    </tr>\n",
       "    <tr>\n",
       "      <td>3</td>\n",
       "      <td>6</td>\n",
       "      <td>South Coast</td>\n",
       "      <td>18</td>\n",
       "      <td>4</td>\n",
       "      <td>Yes</td>\n",
       "      <td>Other</td>\n",
       "    </tr>\n",
       "    <tr>\n",
       "      <td>4</td>\n",
       "      <td>3</td>\n",
       "      <td>West Coast</td>\n",
       "      <td>14</td>\n",
       "      <td>12</td>\n",
       "      <td>No</td>\n",
       "      <td>Other</td>\n",
       "    </tr>\n",
       "    <tr>\n",
       "      <td>...</td>\n",
       "      <td>...</td>\n",
       "      <td>...</td>\n",
       "      <td>...</td>\n",
       "      <td>...</td>\n",
       "      <td>...</td>\n",
       "      <td>...</td>\n",
       "    </tr>\n",
       "    <tr>\n",
       "      <td>95</td>\n",
       "      <td>7</td>\n",
       "      <td>West Coast</td>\n",
       "      <td>27</td>\n",
       "      <td>8</td>\n",
       "      <td>Yes</td>\n",
       "      <td>Other</td>\n",
       "    </tr>\n",
       "    <tr>\n",
       "      <td>96</td>\n",
       "      <td>1</td>\n",
       "      <td>South Coast</td>\n",
       "      <td>13</td>\n",
       "      <td>8</td>\n",
       "      <td>No</td>\n",
       "      <td>Cliff CoastLine</td>\n",
       "    </tr>\n",
       "    <tr>\n",
       "      <td>97</td>\n",
       "      <td>7</td>\n",
       "      <td>South Coast</td>\n",
       "      <td>6</td>\n",
       "      <td>1</td>\n",
       "      <td>Yes</td>\n",
       "      <td>Dumping Surf</td>\n",
       "    </tr>\n",
       "    <tr>\n",
       "      <td>98</td>\n",
       "      <td>1</td>\n",
       "      <td>South Coast</td>\n",
       "      <td>39</td>\n",
       "      <td>3</td>\n",
       "      <td>Yes</td>\n",
       "      <td>Cliff CoastLine</td>\n",
       "    </tr>\n",
       "    <tr>\n",
       "      <td>99</td>\n",
       "      <td>6</td>\n",
       "      <td>West Coast</td>\n",
       "      <td>13</td>\n",
       "      <td>8</td>\n",
       "      <td>No</td>\n",
       "      <td>Cliff CoastLine</td>\n",
       "    </tr>\n",
       "  </tbody>\n",
       "</table>\n",
       "<p>100 rows × 6 columns</p>\n",
       "</div>"
      ],
      "text/plain": [
       "    experience     location  wind Speed  group Size training        trip Type\n",
       "0            3   West Coast          14           7      Yes  Cliff CoastLine\n",
       "1            3   West Coast          17           8      Yes  Cliff CoastLine\n",
       "2            5  South Coast          20           7      Yes     Dumping Surf\n",
       "3            6  South Coast          18           4      Yes            Other\n",
       "4            3   West Coast          14          12       No            Other\n",
       "..         ...          ...         ...         ...      ...              ...\n",
       "95           7   West Coast          27           8      Yes            Other\n",
       "96           1  South Coast          13           8       No  Cliff CoastLine\n",
       "97           7  South Coast           6           1      Yes     Dumping Surf\n",
       "98           1  South Coast          39           3      Yes  Cliff CoastLine\n",
       "99           6   West Coast          13           8       No  Cliff CoastLine\n",
       "\n",
       "[100 rows x 6 columns]"
      ]
     },
     "execution_count": 9,
     "metadata": {},
     "output_type": "execute_result"
    }
   ],
   "source": [
    "result\n"
   ]
  },
  {
   "cell_type": "markdown",
   "metadata": {},
   "source": [
    "### References \n",
    "\n",
    "1. Marine Insitude, Data Access Form, Dataset Title: Irish Weather Buoy Network https://erddap.marine.ie/erddap/tabledap/IWBNetwork.html"
   ]
  },
  {
   "cell_type": "code",
   "execution_count": null,
   "metadata": {},
   "outputs": [],
   "source": []
  },
  {
   "cell_type": "code",
   "execution_count": null,
   "metadata": {},
   "outputs": [],
   "source": []
  },
  {
   "cell_type": "code",
   "execution_count": null,
   "metadata": {},
   "outputs": [],
   "source": []
  },
  {
   "cell_type": "code",
   "execution_count": null,
   "metadata": {},
   "outputs": [],
   "source": []
  }
 ],
 "metadata": {
  "kernelspec": {
   "display_name": "Python 3",
   "language": "python",
   "name": "python3"
  },
  "language_info": {
   "codemirror_mode": {
    "name": "ipython",
    "version": 3
   },
   "file_extension": ".py",
   "mimetype": "text/x-python",
   "name": "python",
   "nbconvert_exporter": "python",
   "pygments_lexer": "ipython3",
   "version": "3.6.9"
  }
 },
 "nbformat": 4,
 "nbformat_minor": 4
}
