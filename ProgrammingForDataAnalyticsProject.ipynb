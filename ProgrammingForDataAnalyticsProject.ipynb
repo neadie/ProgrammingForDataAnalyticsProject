{
 "cells": [
  {
   "cell_type": "code",
   "execution_count": 2,
   "metadata": {},
   "outputs": [],
   "source": [
    "import numpy as np\n",
    "import matplotlib.pyplot as plt\n",
    "import pandas as pd"
   ]
  },
  {
   "cell_type": "markdown",
   "metadata": {},
   "source": [
    "## Generate Data from A Study of Sea kayak incidents in Ireland"
   ]
  },
  {
   "cell_type": "markdown",
   "metadata": {},
   "source": [
    "### Field experience"
   ]
  },
  {
   "cell_type": "markdown",
   "metadata": {},
   "source": [
    ".From [[1](https://issuu.com/lastudio/docs/14752_tnadt_63_issuu)] 70% of those in the survey had been paddling  5 or more years , with nearly half of them having 10 or more experience .  Therefore I generated a data set as below.\n",
    "35% - five or more experience\n",
    "35% - ten or more experince \n",
    "30% less than five years experience "
   ]
  },
  {
   "cell_type": "code",
   "execution_count": 56,
   "metadata": {},
   "outputs": [
    {
     "data": {
      "text/plain": [
       "0      2\n",
       "1      2\n",
       "2     17\n",
       "3     14\n",
       "4      9\n",
       "      ..\n",
       "95    10\n",
       "96    16\n",
       "97     2\n",
       "98     4\n",
       "99     2\n",
       "Length: 100, dtype: int64"
      ]
     },
     "execution_count": 56,
     "metadata": {},
     "output_type": "execute_result"
    }
   ],
   "source": [
    "experienced = []\n",
    "for i in range(35):\n",
    "    experienced.append(np.random.randint(6))\n",
    "for i in range(35):\n",
    "    experienced.append(np.random.randint(11))\n",
    "for i in range(30):\n",
    "    experienced.append(np.random.randint(20))  \n",
    "np.random.shuffle(experienced)\n",
    "\n",
    "Years_Of_Experience = pd.Series(experienced)\n",
    "Years_Of_Experience"
   ]
  },
  {
   "cell_type": "markdown",
   "metadata": {},
   "source": [
    "### Field Location"
   ]
  },
  {
   "cell_type": "markdown",
   "metadata": {},
   "source": [
    "\n",
    "\n",
    "There was no information on location other than most incdients happened on the west coast. Thus therefore I split the 4 regions equally. \n",
    "%25 - west coast \n",
    "%25 east Coast\n",
    "%25 South Coast\n",
    "%25 North Coast\n",
    "\n"
   ]
  },
  {
   "cell_type": "code",
   "execution_count": 41,
   "metadata": {},
   "outputs": [
    {
     "data": {
      "text/plain": [
       "0     South Coast\n",
       "1     South Coast\n",
       "2     South Coast\n",
       "3      West Coast\n",
       "4      West Coast\n",
       "         ...     \n",
       "95    South Coast\n",
       "96    South Coast\n",
       "97    South Coast\n",
       "98    South Coast\n",
       "99    South Coast\n",
       "Length: 100, dtype: object"
      ]
     },
     "execution_count": 41,
     "metadata": {},
     "output_type": "execute_result"
    }
   ],
   "source": [
    "\n",
    "location = []\n",
    "for i in range(25):\n",
    "    location.append(0)\n",
    "for i in range(25):\n",
    "    location.append(1)\n",
    "for i in range(25):\n",
    "    location.append(2)\n",
    "for i in range(25):\n",
    "    location.append(3)    \n",
    "np.random.shuffle(location)\n",
    "\n",
    "for i in range(len(location)):\n",
    "    if location[i] == 0:\n",
    "        location[i] = \"West Coast\"\n",
    "    elif location  == 1:\n",
    "        location[i] = \"East Coast\"\n",
    "    elif location  == 2:\n",
    "        location[i] = \"North Coast\"\n",
    "    else:\n",
    "        location[i] = \"South Coast\"\n",
    "location_of_incident = pd.Series(location)\n",
    "location_of_incident"
   ]
  },
  {
   "cell_type": "markdown",
   "metadata": {},
   "source": [
    "### Field Wind Speed "
   ]
  },
  {
   "cell_type": "code",
   "execution_count": 61,
   "metadata": {},
   "outputs": [
    {
     "data": {
      "text/plain": [
       "0     18\n",
       "1     22\n",
       "2     11\n",
       "3     21\n",
       "4     23\n",
       "      ..\n",
       "95    37\n",
       "96     4\n",
       "97    34\n",
       "98     5\n",
       "99    36\n",
       "Length: 100, dtype: int64"
      ]
     },
     "execution_count": 61,
     "metadata": {},
     "output_type": "execute_result"
    }
   ],
   "source": [
    "windSpeed = []\n",
    "# 3rd of incidents happend in force 3 between 12km/h and 20 km/h\n",
    "for i in range(33):\n",
    "    windSpeed.append(np.random.randint(12,20))\n",
    "#  80% of incidents happend in force 4 and under \n",
    "for i in range(47):\n",
    "    windSpeed.append(np.random.randint(0,29))\n",
    "# 20% of incidents happened above force 4 \n",
    "for i in range(20):\n",
    "    windSpeed.append(np.random.randint(29,40))  \n",
    "np.random.shuffle(windSpeed)\n",
    "Wind_Speed = pd.Series(windSpeed)\n",
    "Wind_Speed"
   ]
  },
  {
   "cell_type": "markdown",
   "metadata": {},
   "source": [
    "### Group Size "
   ]
  },
  {
   "cell_type": "code",
   "execution_count": 3,
   "metadata": {},
   "outputs": [
    {
     "data": {
      "text/plain": [
       "0     7\n",
       "1     8\n",
       "2     8\n",
       "3     8\n",
       "4     8\n",
       "     ..\n",
       "95    8\n",
       "96    8\n",
       "97    7\n",
       "98    4\n",
       "99    7\n",
       "Length: 100, dtype: int64"
      ]
     },
     "execution_count": 3,
     "metadata": {},
     "output_type": "execute_result"
    }
   ],
   "source": [
    "groupSize = []\n",
    "# Most incidents occured when group size was between 7 and 8 people\n",
    "for i in range(60):\n",
    "    groupSize.append(np.random.randint(7,9))\n",
    "#  Followed by between 3 and 4 people\n",
    "for i in range(30):\n",
    "    groupSize.append(np.random.randint(3,5))\n",
    "# Only 4 incidents 1 person was in the paddle\n",
    "for i in range(4):\n",
    "    groupSize.append(1)\n",
    "# All other size groups\n",
    "groupSize.append(2)\n",
    "groupSize.append(5)\n",
    "groupSize.append(6)\n",
    "groupSize.append(12)\n",
    "groupSize.append(9)\n",
    "groupSize.append(10)\n",
    "\n",
    "\n",
    "\n",
    "np.random.shuffle(groupSize)\n",
    "groupSize = pd.Series(groupSize)\n",
    "groupSize"
   ]
  },
  {
   "cell_type": "markdown",
   "metadata": {},
   "source": [
    "### Field Formal Training "
   ]
  },
  {
   "cell_type": "code",
   "execution_count": 5,
   "metadata": {},
   "outputs": [
    {
     "data": {
      "text/plain": [
       "0      1\n",
       "1     No\n",
       "2      1\n",
       "3      1\n",
       "4      1\n",
       "      ..\n",
       "95     1\n",
       "96     1\n",
       "97     1\n",
       "98    No\n",
       "99     1\n",
       "Length: 100, dtype: object"
      ]
     },
     "execution_count": 5,
     "metadata": {},
     "output_type": "execute_result"
    }
   ],
   "source": [
    "training = []\n",
    "for i in range(30):\n",
    "    training.append(0)\n",
    "for i in range(70):\n",
    "    training.append(1)\n",
    " \n",
    "np.random.shuffle(training)\n",
    "\n",
    "for i in range(len(training)):\n",
    "    if training[i] == 0:\n",
    "        training[i] = \"No\"\n",
    "    elif training  == 1:\n",
    "        training[i] = \"Yes\"\n",
    "    \n",
    "Formal_training = pd.Series(training)\n",
    "Formal_training "
   ]
  },
  {
   "cell_type": "markdown",
   "metadata": {},
   "source": [
    "### Field trip Type\n"
   ]
  },
  {
   "cell_type": "code",
   "execution_count": 7,
   "metadata": {},
   "outputs": [
    {
     "data": {
      "text/plain": [
       "0     Cliff CoastLine\n",
       "1               Other\n",
       "2               Other\n",
       "3     Cliff CoastLine\n",
       "4     Cliff CoastLine\n",
       "           ...       \n",
       "95              Other\n",
       "96              Other\n",
       "97    Cliff CoastLine\n",
       "98    Cliff CoastLine\n",
       "99              Other\n",
       "Length: 100, dtype: object"
      ]
     },
     "execution_count": 7,
     "metadata": {},
     "output_type": "execute_result"
    }
   ],
   "source": [
    "tripType = []\n",
    "for i in range(60):\n",
    "    tripType.append(0)\n",
    "for i in range(30):\n",
    "    tripType.append(1)\n",
    "for i in range(10):\n",
    "    tripType.append(2)\n",
    " \n",
    "np.random.shuffle(tripType)\n",
    "\n",
    "for i in range(len(tripType)):\n",
    "    if tripType[i] == 0:\n",
    "        tripType[i] = \"Cliff CoastLine\"\n",
    "    elif tripType  == 1:\n",
    "        tripType[i] = \"Dumping Surf\"\n",
    "    else: \n",
    "        tripType[i] = \"Other\"\n",
    "        \n",
    "    \n",
    "Trip_Type = pd.Series(tripType)\n",
    "Trip_Type"
   ]
  },
  {
   "cell_type": "code",
   "execution_count": null,
   "metadata": {},
   "outputs": [],
   "source": []
  },
  {
   "cell_type": "markdown",
   "metadata": {},
   "source": [
    "### References \n",
    "\n",
    "1. Ray McCullagh and Keven 0'Callaghan,A Study of sea kayak incidents in Ireland https://issuu.com/lastudio/docs/14752_tnadt_63_issuu"
   ]
  },
  {
   "cell_type": "code",
   "execution_count": null,
   "metadata": {},
   "outputs": [],
   "source": []
  },
  {
   "cell_type": "code",
   "execution_count": null,
   "metadata": {},
   "outputs": [],
   "source": []
  }
 ],
 "metadata": {
  "kernelspec": {
   "display_name": "Python 3",
   "language": "python",
   "name": "python3"
  },
  "language_info": {
   "codemirror_mode": {
    "name": "ipython",
    "version": 3
   },
   "file_extension": ".py",
   "mimetype": "text/x-python",
   "name": "python",
   "nbconvert_exporter": "python",
   "pygments_lexer": "ipython3",
   "version": "3.6.9"
  }
 },
 "nbformat": 4,
 "nbformat_minor": 4
}
